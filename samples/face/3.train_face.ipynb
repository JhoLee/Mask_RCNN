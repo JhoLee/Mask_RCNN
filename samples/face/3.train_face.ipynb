{
 "cells": [
  {
   "cell_type": "code",
   "execution_count": 1,
   "metadata": {
    "pycharm": {
     "is_executing": false,
     "name": "#%%\n"
    }
   },
   "outputs": [],
   "source": [
    "import os\n",
    "import sys\n",
    "import random\n",
    "import math\n",
    "import re\n",
    "import time\n",
    "import numpy as np\n",
    "\n",
    "\n",
    "import matplotlib\n",
    "import matplotlib.pyplot as plt\n",
    "\n",
    "# Root directory of the project\n",
    "\n",
    "\n",
    "ROOT_DIR = os.path.abspath(\"../..\")"
   ]
  },
  {
   "cell_type": "code",
   "execution_count": 2,
   "metadata": {
    "pycharm": {
     "is_executing": false,
     "name": "#%%\n"
    }
   },
   "outputs": [
    {
     "name": "stderr",
     "output_type": "stream",
     "text": [
      "/home/jho/anaconda3/envs/mask/lib/python3.6/site-packages/tensorflow/python/framework/dtypes.py:523: FutureWarning: Passing (type, 1) or '1type' as a synonym of type is deprecated; in a future version of numpy, it will be understood as (type, (1,)) / '(1,)type'.\n",
      "  _np_qint8 = np.dtype([(\"qint8\", np.int8, 1)])\n",
      "/home/jho/anaconda3/envs/mask/lib/python3.6/site-packages/tensorflow/python/framework/dtypes.py:524: FutureWarning: Passing (type, 1) or '1type' as a synonym of type is deprecated; in a future version of numpy, it will be understood as (type, (1,)) / '(1,)type'.\n",
      "  _np_quint8 = np.dtype([(\"quint8\", np.uint8, 1)])\n",
      "/home/jho/anaconda3/envs/mask/lib/python3.6/site-packages/tensorflow/python/framework/dtypes.py:525: FutureWarning: Passing (type, 1) or '1type' as a synonym of type is deprecated; in a future version of numpy, it will be understood as (type, (1,)) / '(1,)type'.\n",
      "  _np_qint16 = np.dtype([(\"qint16\", np.int16, 1)])\n",
      "/home/jho/anaconda3/envs/mask/lib/python3.6/site-packages/tensorflow/python/framework/dtypes.py:526: FutureWarning: Passing (type, 1) or '1type' as a synonym of type is deprecated; in a future version of numpy, it will be understood as (type, (1,)) / '(1,)type'.\n",
      "  _np_quint16 = np.dtype([(\"quint16\", np.uint16, 1)])\n",
      "/home/jho/anaconda3/envs/mask/lib/python3.6/site-packages/tensorflow/python/framework/dtypes.py:527: FutureWarning: Passing (type, 1) or '1type' as a synonym of type is deprecated; in a future version of numpy, it will be understood as (type, (1,)) / '(1,)type'.\n",
      "  _np_qint32 = np.dtype([(\"qint32\", np.int32, 1)])\n",
      "/home/jho/anaconda3/envs/mask/lib/python3.6/site-packages/tensorflow/python/framework/dtypes.py:532: FutureWarning: Passing (type, 1) or '1type' as a synonym of type is deprecated; in a future version of numpy, it will be understood as (type, (1,)) / '(1,)type'.\n",
      "  np_resource = np.dtype([(\"resource\", np.ubyte, 1)])\n",
      "Using TensorFlow backend.\n"
     ]
    }
   ],
   "source": [
    "# Import Mask RCNN\n",
    "sys.path.append(ROOT_DIR)\n",
    "from mrcnn import utils\n",
    "import mrcnn.model as modellib\n",
    "from mrcnn import visualize\n",
    "from mrcnn.model import log\n",
    "\n",
    "from samples.face import face\n",
    "\n",
    "%matplotlib inline"
   ]
  },
  {
   "cell_type": "code",
   "execution_count": 3,
   "metadata": {
    "pycharm": {
     "is_executing": false,
     "name": "#%% \n"
    }
   },
   "outputs": [],
   "source": [
    "# Directory to save logs and trained model\n",
    "MODEL_DIR = os.path.join(ROOT_DIR, \"logs\")\n",
    "\n",
    "# Local path to trained weights file\n",
    "COCO_MODEL_PATH = os.path.join(ROOT_DIR, \"mask_rcnn_coco.h5\")\n",
    "\n",
    "# Download COCO trained weights from Releases if needed\n",
    "if not os.path.exists(COCO_MODEL_PATH):\n",
    "    utils.download_trained_weights(COCO_MODEL_PATH)"
   ]
  },
  {
   "cell_type": "markdown",
   "metadata": {
    "collapsed": true,
    "pycharm": {
     "name": "#%% md\n"
    }
   },
   "source": [
    "## Notebook Preferences"
   ]
  },
  {
   "cell_type": "code",
   "execution_count": 4,
   "metadata": {
    "pycharm": {
     "is_executing": false,
     "name": "#%%\n"
    }
   },
   "outputs": [],
   "source": [
    "def get_ax(rows=1, cols=1, size=8):\n",
    "    \"\"\"\n",
    "    Return a Matplotlib Axes array to be used in\n",
    "    all visualizations in the notebook. Provide a\n",
    "    central point to control graph sizes.\n",
    "    \n",
    "    Change the default isze attribute to control the size\n",
    "    of rendered images\n",
    "    \"\"\"\n",
    "    \n",
    "    _, ax = plt.subplots(rows, cols, figsize=(size*cols, size*rows))\n",
    "    return ax\n"
   ]
  },
  {
   "cell_type": "markdown",
   "metadata": {},
   "source": [
    "## Configurations\n",
    "\n",
    "Configurations are defined in face.py"
   ]
  },
  {
   "cell_type": "code",
   "execution_count": 5,
   "metadata": {
    "pycharm": {
     "is_executing": false,
     "name": "#%%\n"
    }
   },
   "outputs": [],
   "source": [
    "config = face.FaceConfig()\n",
    "FACE_DIR = os.path.join(ROOT_DIR, \"samples/face/face_data\")"
   ]
  },
  {
   "cell_type": "markdown",
   "metadata": {},
   "source": [
    "## Dataset"
   ]
  },
  {
   "cell_type": "code",
   "execution_count": 6,
   "metadata": {
    "pycharm": {
     "is_executing": false,
     "name": "#%%\n"
    }
   },
   "outputs": [],
   "source": [
    "# Load dataset\n",
    "# Get the dataset 'CelebA'\n",
    "\n",
    "# dataset = face.FaceDataset()\n",
    "# dataset.load_face(FACE_DIR, \"train\")\n",
    "\n",
    "# Must call before using the dataset\n",
    "# dataset.prepare()\n",
    "\n",
    "# print(\"Image Count: {}\".format(len(dataset.image_ids)))\n",
    "# print(\"Class Count: {}\".format(dataset.num_classes))\n",
    "# for i, info in enumerate(dataset.class_info):\n",
    "#     print(\"{:3}. {:50}\".format(i, info['name']))"
   ]
  },
  {
   "cell_type": "markdown",
   "metadata": {},
   "source": [
    "### Training dataset"
   ]
  },
  {
   "cell_type": "code",
   "execution_count": 7,
   "metadata": {
    "pycharm": {
     "is_executing": false,
     "name": "#%%\n"
    }
   },
   "outputs": [
    {
     "name": "stderr",
     "output_type": "stream",
     "text": [
      "Loading images: 100%|██████████| 3200/3200 [00:04<00:00, 716.00it/s]"
     ]
    },
    {
     "name": "stdout",
     "output_type": "stream",
     "text": [
      "Image Count: 3200\n",
      "Class Count: 2\n",
      "  0. BG                                                \n",
      "  1. face                                              \n"
     ]
    },
    {
     "name": "stderr",
     "output_type": "stream",
     "text": [
      "\n"
     ]
    }
   ],
   "source": [
    "# Training dataset\n",
    "dataset_train = face.FaceDataset()\n",
    "dataset_train.load_face(FACE_DIR, 'train')\n",
    "dataset_train.prepare()\n",
    "\n",
    "print(\"Image Count: {}\".format(len(dataset_train.image_ids)))\n",
    "print(\"Class Count: {}\".format(dataset_train.num_classes))\n",
    "for i, info in enumerate(dataset_train.class_info):\n",
    "    print(\"{:3}. {:50}\".format(i, info['name']))"
   ]
  },
  {
   "cell_type": "markdown",
   "metadata": {
    "pycharm": {
     "name": "#%% md\n"
    }
   },
   "source": [
    "### Validation Dataset"
   ]
  },
  {
   "cell_type": "code",
   "execution_count": 8,
   "metadata": {
    "pycharm": {
     "is_executing": false,
     "name": "#%%\n"
    }
   },
   "outputs": [
    {
     "name": "stderr",
     "output_type": "stream",
     "text": [
      "Loading images: 100%|██████████| 355/355 [00:00<00:00, 729.51it/s]"
     ]
    },
    {
     "name": "stdout",
     "output_type": "stream",
     "text": [
      "Image Count: 355\n",
      "Class Count: 2\n",
      "  0. BG                                                \n",
      "  1. face                                              \n"
     ]
    },
    {
     "name": "stderr",
     "output_type": "stream",
     "text": [
      "\n"
     ]
    }
   ],
   "source": [
    "# Validation dataset\n",
    "dataset_val = face.FaceDataset()\n",
    "dataset_val.load_face(FACE_DIR, 'val')\n",
    "dataset_val.prepare()\n",
    "\n",
    "print(\"Image Count: {}\".format(len(dataset_val.image_ids)))\n",
    "print(\"Class Count: {}\".format(dataset_val.num_classes))\n",
    "for i, info in enumerate(dataset_val.class_info):\n",
    "    print(\"{:3}. {:50}\".format(i, info['name']))"
   ]
  },
  {
   "cell_type": "code",
   "execution_count": 9,
   "metadata": {
    "pycharm": {
     "is_executing": false,
     "name": "#%%\n"
    }
   },
   "outputs": [
    {
     "data": {
      "image/png": "[encoded data removed]",
      "text/plain": [
       "<Figure size 1008x360 with 5 Axes>"
      ]
     },
     "metadata": {
      "needs_background": "light"
     },
     "output_type": "display_data"
    },
    {
     "data": {
      "image/png": "[encoded data removed]",
      "text/plain": [
       "<Figure size 1008x360 with 5 Axes>"
      ]
     },
     "metadata": {
      "needs_background": "light"
     },
     "output_type": "display_data"
    },
    {
     "data": {
      "image/png": "[encoded data removed]",
      "text/plain": [
       "<Figure size 1008x360 with 5 Axes>"
      ]
     },
     "metadata": {
      "needs_background": "light"
     },
     "output_type": "display_data"
    },
    {
     "data": {
      "image/png": "[encoded data removed]",
      "text/plain": [
       "<Figure size 1008x360 with 5 Axes>"
      ]
     },
     "metadata": {
      "needs_background": "light"
     },
     "output_type": "display_data"
    }
   ],
   "source": [
    "# Load and display random samples\n",
    "image_ids = np.random.choice(dataset_train.image_ids, 4)\n",
    "for image_id in image_ids:\n",
    "    image = dataset_train.load_image(image_id)\n",
    "    mask, class_ids = dataset_train.load_mask(image_id)\n",
    "    visualize.display_top_masks(image, mask, class_ids, dataset_train.class_names)\n"
   ]
  },
  {
   "cell_type": "markdown",
   "metadata": {},
   "source": [
    "## Create Model"
   ]
  },
  {
   "cell_type": "code",
   "execution_count": 10,
   "metadata": {
    "pycharm": {
     "is_executing": false,
     "name": "#%% \n"
    }
   },
   "outputs": [
    {
     "name": "stdout",
     "output_type": "stream",
     "text": [
      "WARNING:tensorflow:From /home/jho/anaconda3/envs/mask/lib/python3.6/site-packages/keras/backend/tensorflow_backend.py:1154: calling reduce_max (from tensorflow.python.ops.math_ops) with keep_dims is deprecated and will be removed in a future version.\n",
      "Instructions for updating:\n",
      "keep_dims is deprecated, use keepdims instead\n",
      "WARNING:tensorflow:From /home/jho/anaconda3/envs/mask/lib/python3.6/site-packages/keras/backend/tensorflow_backend.py:1188: calling reduce_sum (from tensorflow.python.ops.math_ops) with keep_dims is deprecated and will be removed in a future version.\n",
      "Instructions for updating:\n",
      "keep_dims is deprecated, use keepdims instead\n",
      "WARNING:tensorflow:From /home/jho/anaconda3/envs/mask/lib/python3.6/site-packages/keras/backend/tensorflow_backend.py:1290: calling reduce_mean (from tensorflow.python.ops.math_ops) with keep_dims is deprecated and will be removed in a future version.\n",
      "Instructions for updating:\n",
      "keep_dims is deprecated, use keepdims instead\n"
     ]
    }
   ],
   "source": [
    "# Create model in training mode\n",
    "model = modellib.MaskRCNN(\n",
    "        mode=\"training\", \n",
    "        config=config,\n",
    "        model_dir=MODEL_DIR)"
   ]
  },
  {
   "cell_type": "code",
   "execution_count": 11,
   "metadata": {
    "pycharm": {
     "is_executing": false,
     "name": "#%%\n"
    }
   },
   "outputs": [],
   "source": [
    "# Which weights to start with?\n",
    "init_weight = \"coco\" # imagenet, coco, or last\n",
    "\n",
    "if init_weight == \"imagenet\":\n",
    "    model.load_weights(model.get_imagenet_weights(), by_name=True)\n",
    "elif init_weight == \"coco\":\n",
    "    # Load weights trained on MS COCO, but skip layers that\n",
    "    # are different due to the different number of classes\n",
    "    # See README for instructions to download the COCO weights\n",
    "    model.load_weights(COCO_MODEL_PATH, by_name=True,\n",
    "                        exclude=[\"mrcnn_class_logits\", \"mrcnn_bbox_fc\",\n",
    "                                 \"mrcnn_bbox\", \"mrcnn_mask\"])\n",
    "    \n",
    "elif init_weight == \"last\":\n",
    "    # Load the last model you trained and continue training\n",
    "    model.load_weights(model.find_last(), by_name=True)\n",
    "\n"
   ]
  },
  {
   "cell_type": "markdown",
   "metadata": {
    "pycharm": {
     "name": "#%% md\n"
    }
   },
   "source": [
    "## Training\n",
    "\n",
    "Train in two stages:\n",
    "\n",
    " 1. Only the heads. Here we're freezing all the backbone layers and training only the randomly intialized layers\n",
    " (.e. the ones that we didn't use pre-trained weights from MS COCO).\n",
    " To train only the head layers, pass layers='heads' to the train() function.\n",
    " 2. Fine-tune all layers. For this simple example it's not necessary, but we're including it to show the process.\n",
    " Simply pass layers=\"all to train all layers.\n",
    " "
   ]
  },
  {
   "cell_type": "code",
   "execution_count": 12,
   "metadata": {
    "pycharm": {
     "is_executing": true,
     "name": "#%%\n"
    }
   },
   "outputs": [
    {
     "name": "stdout",
     "output_type": "stream",
     "text": [
      "\n",
      "Starting at epoch 0. LR=0.001\n",
      "\n",
      "Checkpoint Path: /home/jho/projects/Mask_RCNN/logs/face20200408T1803/mask_rcnn_face_{epoch:04d}.h5\n",
      "Selecting layers to train\n",
      "fpn_c5p5               (Conv2D)\n",
      "fpn_c4p4               (Conv2D)\n",
      "fpn_c3p3               (Conv2D)\n",
      "fpn_c2p2               (Conv2D)\n",
      "fpn_p5                 (Conv2D)\n",
      "fpn_p2                 (Conv2D)\n",
      "fpn_p3                 (Conv2D)\n",
      "fpn_p4                 (Conv2D)\n",
      "In model:  rpn_model\n",
      "    rpn_conv_shared        (Conv2D)\n",
      "    rpn_class_raw          (Conv2D)\n",
      "    rpn_bbox_pred          (Conv2D)\n",
      "mrcnn_mask_conv1       (TimeDistributed)\n",
      "mrcnn_mask_bn1         (TimeDistributed)\n",
      "mrcnn_mask_conv2       (TimeDistributed)\n",
      "mrcnn_mask_bn2         (TimeDistributed)\n",
      "mrcnn_class_conv1      (TimeDistributed)\n",
      "mrcnn_class_bn1        (TimeDistributed)\n",
      "mrcnn_mask_conv3       (TimeDistributed)\n",
      "mrcnn_mask_bn3         (TimeDistributed)\n",
      "mrcnn_class_conv2      (TimeDistributed)\n",
      "mrcnn_class_bn2        (TimeDistributed)\n",
      "mrcnn_mask_conv4       (TimeDistributed)\n",
      "mrcnn_mask_bn4         (TimeDistributed)\n",
      "mrcnn_bbox_fc          (TimeDistributed)\n",
      "mrcnn_mask_deconv      (TimeDistributed)\n",
      "mrcnn_class_logits     (TimeDistributed)\n",
      "mrcnn_mask             (TimeDistributed)\n"
     ]
    },
    {
     "name": "stderr",
     "output_type": "stream",
     "text": [
      "/home/jho/anaconda3/envs/mask/lib/python3.6/site-packages/tensorflow/python/ops/gradients_impl.py:108: UserWarning: Converting sparse IndexedSlices to a dense Tensor of unknown shape. This may consume a large amount of memory.\n",
      "  \"Converting sparse IndexedSlices to a dense Tensor of unknown shape. \"\n",
      "/home/jho/anaconda3/envs/mask/lib/python3.6/site-packages/keras/engine/training.py:1987: UserWarning: Using a generator with `use_multiprocessing=True` and multiple workers may duplicate your data. Please consider using the`keras.utils.Sequence class.\n",
      "  UserWarning('Using a generator with `use_multiprocessing=True`'\n"
     ]
    },
    {
     "name": "stdout",
     "output_type": "stream",
     "text": [
      "Epoch 1/10\n",
      " 99/100 [============================>.] - ETA: 0s - loss: 1.1707 - rpn_class_loss: 0.0128 - rpn_bbox_loss: 0.3137 - mrcnn_class_loss: 0.0212 - mrcnn_bbox_loss: 0.4225 - mrcnn_mask_loss: 0.4004"
     ]
    },
    {
     "name": "stderr",
     "output_type": "stream",
     "text": [
      "/home/jho/anaconda3/envs/mask/lib/python3.6/site-packages/keras/engine/training.py:2142: UserWarning: Using a generator with `use_multiprocessing=True` and multiple workers may duplicate your data. Please consider using the`keras.utils.Sequence class.\n",
      "  UserWarning('Using a generator with `use_multiprocessing=True`'\n"
     ]
    },
    {
     "name": "stdout",
     "output_type": "stream",
     "text": [
      "100/100 [==============================] - 47s - loss: 1.1626 - rpn_class_loss: 0.0127 - rpn_bbox_loss: 0.3110 - mrcnn_class_loss: 0.0210 - mrcnn_bbox_loss: 0.4198 - mrcnn_mask_loss: 0.3981 - val_loss: 0.6785 - val_rpn_class_loss: 0.0042 - val_rpn_bbox_loss: 0.1953 - val_mrcnn_class_loss: 0.0079 - val_mrcnn_bbox_loss: 0.2625 - val_mrcnn_mask_loss: 0.2085\n",
      "Epoch 2/10\n",
      "100/100 [==============================] - 27s - loss: 0.6151 - rpn_class_loss: 0.0069 - rpn_bbox_loss: 0.1814 - mrcnn_class_loss: 0.0064 - mrcnn_bbox_loss: 0.2166 - mrcnn_mask_loss: 0.2038 - val_loss: 0.6406 - val_rpn_class_loss: 0.0031 - val_rpn_bbox_loss: 0.1732 - val_mrcnn_class_loss: 0.0076 - val_mrcnn_bbox_loss: 0.2500 - val_mrcnn_mask_loss: 0.2066\n",
      "Epoch 3/10\n",
      "100/100 [==============================] - 27s - loss: 0.6104 - rpn_class_loss: 0.0094 - rpn_bbox_loss: 0.2152 - mrcnn_class_loss: 0.0086 - mrcnn_bbox_loss: 0.1899 - mrcnn_mask_loss: 0.1873 - val_loss: 0.5507 - val_rpn_class_loss: 0.0040 - val_rpn_bbox_loss: 0.1828 - val_mrcnn_class_loss: 0.0085 - val_mrcnn_bbox_loss: 0.1971 - val_mrcnn_mask_loss: 0.1583\n",
      "Epoch 4/10\n",
      "100/100 [==============================] - 27s - loss: 0.6565 - rpn_class_loss: 0.0087 - rpn_bbox_loss: 0.3326 - mrcnn_class_loss: 0.0058 - mrcnn_bbox_loss: 0.1539 - mrcnn_mask_loss: 0.1554 - val_loss: 0.6100 - val_rpn_class_loss: 0.0028 - val_rpn_bbox_loss: 0.1889 - val_mrcnn_class_loss: 0.0067 - val_mrcnn_bbox_loss: 0.2394 - val_mrcnn_mask_loss: 0.1721\n",
      "Epoch 5/10\n",
      "100/100 [==============================] - 26s - loss: 0.3861 - rpn_class_loss: 0.0016 - rpn_bbox_loss: 0.1007 - mrcnn_class_loss: 0.0056 - mrcnn_bbox_loss: 0.1408 - mrcnn_mask_loss: 0.1374 - val_loss: 0.5879 - val_rpn_class_loss: 0.0043 - val_rpn_bbox_loss: 0.2023 - val_mrcnn_class_loss: 0.0070 - val_mrcnn_bbox_loss: 0.2495 - val_mrcnn_mask_loss: 0.1247\n",
      "Epoch 6/10\n",
      "100/100 [==============================] - 27s - loss: 0.3839 - rpn_class_loss: 0.0013 - rpn_bbox_loss: 0.1041 - mrcnn_class_loss: 0.0041 - mrcnn_bbox_loss: 0.1351 - mrcnn_mask_loss: 0.1393 - val_loss: 0.5420 - val_rpn_class_loss: 0.0027 - val_rpn_bbox_loss: 0.1885 - val_mrcnn_class_loss: 0.0085 - val_mrcnn_bbox_loss: 0.2130 - val_mrcnn_mask_loss: 0.1293\n",
      "Epoch 7/10\n",
      "100/100 [==============================] - 27s - loss: 0.4287 - rpn_class_loss: 0.0024 - rpn_bbox_loss: 0.1732 - mrcnn_class_loss: 0.0058 - mrcnn_bbox_loss: 0.1240 - mrcnn_mask_loss: 0.1232 - val_loss: 0.5183 - val_rpn_class_loss: 0.0014 - val_rpn_bbox_loss: 0.1736 - val_mrcnn_class_loss: 0.0053 - val_mrcnn_bbox_loss: 0.2107 - val_mrcnn_mask_loss: 0.1274\n",
      "Epoch 8/10\n",
      "100/100 [==============================] - 27s - loss: 0.3205 - rpn_class_loss: 0.0011 - rpn_bbox_loss: 0.0897 - mrcnn_class_loss: 0.0043 - mrcnn_bbox_loss: 0.1048 - mrcnn_mask_loss: 0.1206 - val_loss: 0.5521 - val_rpn_class_loss: 0.0035 - val_rpn_bbox_loss: 0.2079 - val_mrcnn_class_loss: 0.0087 - val_mrcnn_bbox_loss: 0.2164 - val_mrcnn_mask_loss: 0.1157\n",
      "Epoch 9/10\n",
      "100/100 [==============================] - 27s - loss: 0.4783 - rpn_class_loss: 0.0042 - rpn_bbox_loss: 0.1880 - mrcnn_class_loss: 0.0069 - mrcnn_bbox_loss: 0.1505 - mrcnn_mask_loss: 0.1287 - val_loss: 0.5892 - val_rpn_class_loss: 0.0029 - val_rpn_bbox_loss: 0.2107 - val_mrcnn_class_loss: 0.0079 - val_mrcnn_bbox_loss: 0.2591 - val_mrcnn_mask_loss: 0.1086\n",
      "Epoch 10/10\n",
      "100/100 [==============================] - 25s - loss: 0.3110 - rpn_class_loss: 9.5751e-04 - rpn_bbox_loss: 0.0922 - mrcnn_class_loss: 0.0032 - mrcnn_bbox_loss: 0.1049 - mrcnn_mask_loss: 0.1097 - val_loss: 0.5933 - val_rpn_class_loss: 0.0038 - val_rpn_bbox_loss: 0.1872 - val_mrcnn_class_loss: 0.0081 - val_mrcnn_bbox_loss: 0.2422 - val_mrcnn_mask_loss: 0.1519\n"
     ]
    }
   ],
   "source": [
    "# Train the head branches\n",
    "# Passing layers=\"heads\" freezes all layers except the head\n",
    "# layers. You can also pass a regular expression to select\n",
    "# which layers to train by name pattern.\n",
    "head_epochs = 10\n",
    "model.train(dataset_train, dataset_val,\n",
    "            learning_rate=config.LEARNING_RATE,\n",
    "            epochs=head_epochs,\n",
    "            layers='heads')\n",
    "\n"
   ]
  },
  {
   "cell_type": "code",
   "execution_count": 13,
   "metadata": {
    "pycharm": {
     "is_executing": true,
     "name": "#%%\n"
    }
   },
   "outputs": [
    {
     "name": "stdout",
     "output_type": "stream",
     "text": [
      "\n",
      "Starting at epoch 10. LR=0.0001\n",
      "\n",
      "Checkpoint Path: /home/jho/projects/Mask_RCNN/logs/face20200408T1803/mask_rcnn_face_{epoch:04d}.h5\n",
      "Selecting layers to train\n",
      "conv1                  (Conv2D)\n",
      "bn_conv1               (BatchNorm)\n",
      "res2a_branch2a         (Conv2D)\n",
      "bn2a_branch2a          (BatchNorm)\n",
      "res2a_branch2b         (Conv2D)\n",
      "bn2a_branch2b          (BatchNorm)\n",
      "res2a_branch2c         (Conv2D)\n",
      "res2a_branch1          (Conv2D)\n",
      "bn2a_branch2c          (BatchNorm)\n",
      "bn2a_branch1           (BatchNorm)\n",
      "res2b_branch2a         (Conv2D)\n",
      "bn2b_branch2a          (BatchNorm)\n",
      "res2b_branch2b         (Conv2D)\n",
      "bn2b_branch2b          (BatchNorm)\n",
      "res2b_branch2c         (Conv2D)\n",
      "bn2b_branch2c          (BatchNorm)\n",
      "res2c_branch2a         (Conv2D)\n",
      "bn2c_branch2a          (BatchNorm)\n",
      "res2c_branch2b         (Conv2D)\n",
      "bn2c_branch2b          (BatchNorm)\n",
      "res2c_branch2c         (Conv2D)\n",
      "bn2c_branch2c          (BatchNorm)\n",
      "res3a_branch2a         (Conv2D)\n",
      "bn3a_branch2a          (BatchNorm)\n",
      "res3a_branch2b         (Conv2D)\n",
      "bn3a_branch2b          (BatchNorm)\n",
      "res3a_branch2c         (Conv2D)\n",
      "res3a_branch1          (Conv2D)\n",
      "bn3a_branch2c          (BatchNorm)\n",
      "bn3a_branch1           (BatchNorm)\n",
      "res3b_branch2a         (Conv2D)\n",
      "bn3b_branch2a          (BatchNorm)\n",
      "res3b_branch2b         (Conv2D)\n",
      "bn3b_branch2b          (BatchNorm)\n",
      "res3b_branch2c         (Conv2D)\n",
      "bn3b_branch2c          (BatchNorm)\n",
      "res3c_branch2a         (Conv2D)\n",
      "bn3c_branch2a          (BatchNorm)\n",
      "res3c_branch2b         (Conv2D)\n",
      "bn3c_branch2b          (BatchNorm)\n",
      "res3c_branch2c         (Conv2D)\n",
      "bn3c_branch2c          (BatchNorm)\n",
      "res3d_branch2a         (Conv2D)\n",
      "bn3d_branch2a          (BatchNorm)\n",
      "res3d_branch2b         (Conv2D)\n",
      "bn3d_branch2b          (BatchNorm)\n",
      "res3d_branch2c         (Conv2D)\n",
      "bn3d_branch2c          (BatchNorm)\n",
      "res4a_branch2a         (Conv2D)\n",
      "bn4a_branch2a          (BatchNorm)\n",
      "res4a_branch2b         (Conv2D)\n",
      "bn4a_branch2b          (BatchNorm)\n",
      "res4a_branch2c         (Conv2D)\n",
      "res4a_branch1          (Conv2D)\n",
      "bn4a_branch2c          (BatchNorm)\n",
      "bn4a_branch1           (BatchNorm)\n",
      "res4b_branch2a         (Conv2D)\n",
      "bn4b_branch2a          (BatchNorm)\n",
      "res4b_branch2b         (Conv2D)\n",
      "bn4b_branch2b          (BatchNorm)\n",
      "res4b_branch2c         (Conv2D)\n",
      "bn4b_branch2c          (BatchNorm)\n",
      "res4c_branch2a         (Conv2D)\n",
      "bn4c_branch2a          (BatchNorm)\n",
      "res4c_branch2b         (Conv2D)\n",
      "bn4c_branch2b          (BatchNorm)\n",
      "res4c_branch2c         (Conv2D)\n",
      "bn4c_branch2c          (BatchNorm)\n",
      "res4d_branch2a         (Conv2D)\n",
      "bn4d_branch2a          (BatchNorm)\n",
      "res4d_branch2b         (Conv2D)\n",
      "bn4d_branch2b          (BatchNorm)\n",
      "res4d_branch2c         (Conv2D)\n",
      "bn4d_branch2c          (BatchNorm)\n",
      "res4e_branch2a         (Conv2D)\n",
      "bn4e_branch2a          (BatchNorm)\n",
      "res4e_branch2b         (Conv2D)\n",
      "bn4e_branch2b          (BatchNorm)\n",
      "res4e_branch2c         (Conv2D)\n",
      "bn4e_branch2c          (BatchNorm)\n",
      "res4f_branch2a         (Conv2D)\n",
      "bn4f_branch2a          (BatchNorm)\n",
      "res4f_branch2b         (Conv2D)\n",
      "bn4f_branch2b          (BatchNorm)\n",
      "res4f_branch2c         (Conv2D)\n",
      "bn4f_branch2c          (BatchNorm)\n",
      "res4g_branch2a         (Conv2D)\n",
      "bn4g_branch2a          (BatchNorm)\n",
      "res4g_branch2b         (Conv2D)\n",
      "bn4g_branch2b          (BatchNorm)\n",
      "res4g_branch2c         (Conv2D)\n",
      "bn4g_branch2c          (BatchNorm)\n",
      "res4h_branch2a         (Conv2D)\n",
      "bn4h_branch2a          (BatchNorm)\n",
      "res4h_branch2b         (Conv2D)\n",
      "bn4h_branch2b          (BatchNorm)\n",
      "res4h_branch2c         (Conv2D)\n",
      "bn4h_branch2c          (BatchNorm)\n",
      "res4i_branch2a         (Conv2D)\n",
      "bn4i_branch2a          (BatchNorm)\n",
      "res4i_branch2b         (Conv2D)\n",
      "bn4i_branch2b          (BatchNorm)\n",
      "res4i_branch2c         (Conv2D)\n",
      "bn4i_branch2c          (BatchNorm)\n",
      "res4j_branch2a         (Conv2D)\n",
      "bn4j_branch2a          (BatchNorm)\n",
      "res4j_branch2b         (Conv2D)\n",
      "bn4j_branch2b          (BatchNorm)\n",
      "res4j_branch2c         (Conv2D)\n",
      "bn4j_branch2c          (BatchNorm)\n",
      "res4k_branch2a         (Conv2D)\n",
      "bn4k_branch2a          (BatchNorm)\n",
      "res4k_branch2b         (Conv2D)\n",
      "bn4k_branch2b          (BatchNorm)\n",
      "res4k_branch2c         (Conv2D)\n",
      "bn4k_branch2c          (BatchNorm)\n",
      "res4l_branch2a         (Conv2D)\n",
      "bn4l_branch2a          (BatchNorm)\n",
      "res4l_branch2b         (Conv2D)\n",
      "bn4l_branch2b          (BatchNorm)\n",
      "res4l_branch2c         (Conv2D)\n",
      "bn4l_branch2c          (BatchNorm)\n",
      "res4m_branch2a         (Conv2D)\n",
      "bn4m_branch2a          (BatchNorm)\n",
      "res4m_branch2b         (Conv2D)\n",
      "bn4m_branch2b          (BatchNorm)\n",
      "res4m_branch2c         (Conv2D)\n",
      "bn4m_branch2c          (BatchNorm)\n",
      "res4n_branch2a         (Conv2D)\n",
      "bn4n_branch2a          (BatchNorm)\n",
      "res4n_branch2b         (Conv2D)\n",
      "bn4n_branch2b          (BatchNorm)\n",
      "res4n_branch2c         (Conv2D)\n",
      "bn4n_branch2c          (BatchNorm)\n",
      "res4o_branch2a         (Conv2D)\n",
      "bn4o_branch2a          (BatchNorm)\n",
      "res4o_branch2b         (Conv2D)\n",
      "bn4o_branch2b          (BatchNorm)\n",
      "res4o_branch2c         (Conv2D)\n",
      "bn4o_branch2c          (BatchNorm)\n",
      "res4p_branch2a         (Conv2D)\n",
      "bn4p_branch2a          (BatchNorm)\n",
      "res4p_branch2b         (Conv2D)\n",
      "bn4p_branch2b          (BatchNorm)\n",
      "res4p_branch2c         (Conv2D)\n",
      "bn4p_branch2c          (BatchNorm)\n",
      "res4q_branch2a         (Conv2D)\n",
      "bn4q_branch2a          (BatchNorm)\n",
      "res4q_branch2b         (Conv2D)\n",
      "bn4q_branch2b          (BatchNorm)\n",
      "res4q_branch2c         (Conv2D)\n",
      "bn4q_branch2c          (BatchNorm)\n",
      "res4r_branch2a         (Conv2D)\n",
      "bn4r_branch2a          (BatchNorm)\n",
      "res4r_branch2b         (Conv2D)\n",
      "bn4r_branch2b          (BatchNorm)\n",
      "res4r_branch2c         (Conv2D)\n",
      "bn4r_branch2c          (BatchNorm)\n",
      "res4s_branch2a         (Conv2D)\n",
      "bn4s_branch2a          (BatchNorm)\n",
      "res4s_branch2b         (Conv2D)\n",
      "bn4s_branch2b          (BatchNorm)\n",
      "res4s_branch2c         (Conv2D)\n",
      "bn4s_branch2c          (BatchNorm)\n",
      "res4t_branch2a         (Conv2D)\n",
      "bn4t_branch2a          (BatchNorm)\n",
      "res4t_branch2b         (Conv2D)\n",
      "bn4t_branch2b          (BatchNorm)\n",
      "res4t_branch2c         (Conv2D)\n",
      "bn4t_branch2c          (BatchNorm)\n",
      "res4u_branch2a         (Conv2D)\n",
      "bn4u_branch2a          (BatchNorm)\n",
      "res4u_branch2b         (Conv2D)\n",
      "bn4u_branch2b          (BatchNorm)\n",
      "res4u_branch2c         (Conv2D)\n",
      "bn4u_branch2c          (BatchNorm)\n",
      "res4v_branch2a         (Conv2D)\n",
      "bn4v_branch2a          (BatchNorm)\n",
      "res4v_branch2b         (Conv2D)\n",
      "bn4v_branch2b          (BatchNorm)\n",
      "res4v_branch2c         (Conv2D)\n",
      "bn4v_branch2c          (BatchNorm)\n",
      "res4w_branch2a         (Conv2D)\n",
      "bn4w_branch2a          (BatchNorm)\n",
      "res4w_branch2b         (Conv2D)\n",
      "bn4w_branch2b          (BatchNorm)\n",
      "res4w_branch2c         (Conv2D)\n",
      "bn4w_branch2c          (BatchNorm)\n",
      "res5a_branch2a         (Conv2D)\n",
      "bn5a_branch2a          (BatchNorm)\n",
      "res5a_branch2b         (Conv2D)\n",
      "bn5a_branch2b          (BatchNorm)\n",
      "res5a_branch2c         (Conv2D)\n",
      "res5a_branch1          (Conv2D)\n",
      "bn5a_branch2c          (BatchNorm)\n",
      "bn5a_branch1           (BatchNorm)\n",
      "res5b_branch2a         (Conv2D)\n",
      "bn5b_branch2a          (BatchNorm)\n",
      "res5b_branch2b         (Conv2D)\n",
      "bn5b_branch2b          (BatchNorm)\n",
      "res5b_branch2c         (Conv2D)\n",
      "bn5b_branch2c          (BatchNorm)\n",
      "res5c_branch2a         (Conv2D)\n",
      "bn5c_branch2a          (BatchNorm)\n",
      "res5c_branch2b         (Conv2D)\n",
      "bn5c_branch2b          (BatchNorm)\n",
      "res5c_branch2c         (Conv2D)\n",
      "bn5c_branch2c          (BatchNorm)\n",
      "fpn_c5p5               (Conv2D)\n",
      "fpn_c4p4               (Conv2D)\n",
      "fpn_c3p3               (Conv2D)\n",
      "fpn_c2p2               (Conv2D)\n",
      "fpn_p5                 (Conv2D)\n",
      "fpn_p2                 (Conv2D)\n",
      "fpn_p3                 (Conv2D)\n",
      "fpn_p4                 (Conv2D)\n",
      "In model:  rpn_model\n",
      "    rpn_conv_shared        (Conv2D)\n",
      "    rpn_class_raw          (Conv2D)\n",
      "    rpn_bbox_pred          (Conv2D)\n",
      "mrcnn_mask_conv1       (TimeDistributed)\n",
      "mrcnn_mask_bn1         (TimeDistributed)\n",
      "mrcnn_mask_conv2       (TimeDistributed)\n",
      "mrcnn_mask_bn2         (TimeDistributed)\n",
      "mrcnn_class_conv1      (TimeDistributed)\n",
      "mrcnn_class_bn1        (TimeDistributed)\n",
      "mrcnn_mask_conv3       (TimeDistributed)\n",
      "mrcnn_mask_bn3         (TimeDistributed)\n",
      "mrcnn_class_conv2      (TimeDistributed)\n",
      "mrcnn_class_bn2        (TimeDistributed)\n",
      "mrcnn_mask_conv4       (TimeDistributed)\n",
      "mrcnn_mask_bn4         (TimeDistributed)\n",
      "mrcnn_bbox_fc          (TimeDistributed)\n",
      "mrcnn_mask_deconv      (TimeDistributed)\n",
      "mrcnn_class_logits     (TimeDistributed)\n",
      "mrcnn_mask             (TimeDistributed)\n",
      "Epoch 11/100\n"
     ]
    },
    {
     "name": "stdout",
     "output_type": "stream",
     "text": [
      "100/100 [==============================] - 46s - loss: 0.3401 - rpn_class_loss: 0.0028 - rpn_bbox_loss: 0.1635 - mrcnn_class_loss: 0.0041 - mrcnn_bbox_loss: 0.0726 - mrcnn_mask_loss: 0.0971 - val_loss: 0.6745 - val_rpn_class_loss: 0.0030 - val_rpn_bbox_loss: 0.2662 - val_mrcnn_class_loss: 0.0134 - val_mrcnn_bbox_loss: 0.2751 - val_mrcnn_mask_loss: 0.1168\n",
      "Epoch 12/100\n",
      "100/100 [==============================] - 28s - loss: 0.4343 - rpn_class_loss: 0.0068 - rpn_bbox_loss: 0.2201 - mrcnn_class_loss: 0.0056 - mrcnn_bbox_loss: 0.0951 - mrcnn_mask_loss: 0.1067 - val_loss: 0.4954 - val_rpn_class_loss: 0.0043 - val_rpn_bbox_loss: 0.1874 - val_mrcnn_class_loss: 0.0095 - val_mrcnn_bbox_loss: 0.1846 - val_mrcnn_mask_loss: 0.1096\n",
      "Epoch 13/100\n",
      "100/100 [==============================] - 28s - loss: 0.5607 - rpn_class_loss: 0.0088 - rpn_bbox_loss: 0.3726 - mrcnn_class_loss: 0.0066 - mrcnn_bbox_loss: 0.0736 - mrcnn_mask_loss: 0.0990 - val_loss: 0.5271 - val_rpn_class_loss: 0.0016 - val_rpn_bbox_loss: 0.2316 - val_mrcnn_class_loss: 0.0087 - val_mrcnn_bbox_loss: 0.1907 - val_mrcnn_mask_loss: 0.0945\n",
      "Epoch 14/100\n",
      "100/100 [==============================] - 28s - loss: 0.3049 - rpn_class_loss: 0.0028 - rpn_bbox_loss: 0.0976 - mrcnn_class_loss: 0.0057 - mrcnn_bbox_loss: 0.0755 - mrcnn_mask_loss: 0.1233 - val_loss: 0.4546 - val_rpn_class_loss: 0.0051 - val_rpn_bbox_loss: 0.1720 - val_mrcnn_class_loss: 0.0092 - val_mrcnn_bbox_loss: 0.1708 - val_mrcnn_mask_loss: 0.0975\n",
      "Epoch 15/100\n",
      "100/100 [==============================] - 28s - loss: 0.2482 - rpn_class_loss: 0.0010 - rpn_bbox_loss: 0.0797 - mrcnn_class_loss: 0.0054 - mrcnn_bbox_loss: 0.0665 - mrcnn_mask_loss: 0.0956 - val_loss: 0.3760 - val_rpn_class_loss: 7.5505e-04 - val_rpn_bbox_loss: 0.1451 - val_mrcnn_class_loss: 0.0082 - val_mrcnn_bbox_loss: 0.1292 - val_mrcnn_mask_loss: 0.0927\n",
      "Epoch 16/100\n",
      "100/100 [==============================] - 28s - loss: 0.2174 - rpn_class_loss: 7.6644e-04 - rpn_bbox_loss: 0.0628 - mrcnn_class_loss: 0.0039 - mrcnn_bbox_loss: 0.0550 - mrcnn_mask_loss: 0.0949 - val_loss: 0.4877 - val_rpn_class_loss: 0.0024 - val_rpn_bbox_loss: 0.2051 - val_mrcnn_class_loss: 0.0100 - val_mrcnn_bbox_loss: 0.1676 - val_mrcnn_mask_loss: 0.1026\n",
      "Epoch 17/100\n",
      "100/100 [==============================] - 28s - loss: 0.2804 - rpn_class_loss: 0.0023 - rpn_bbox_loss: 0.1192 - mrcnn_class_loss: 0.0046 - mrcnn_bbox_loss: 0.0682 - mrcnn_mask_loss: 0.0862 - val_loss: 0.4354 - val_rpn_class_loss: 0.0030 - val_rpn_bbox_loss: 0.1574 - val_mrcnn_class_loss: 0.0146 - val_mrcnn_bbox_loss: 0.1648 - val_mrcnn_mask_loss: 0.0955\n",
      "Epoch 18/100\n",
      "100/100 [==============================] - 29s - loss: 0.2439 - rpn_class_loss: 8.4729e-04 - rpn_bbox_loss: 0.0853 - mrcnn_class_loss: 0.0064 - mrcnn_bbox_loss: 0.0630 - mrcnn_mask_loss: 0.0884 - val_loss: 0.6186 - val_rpn_class_loss: 0.0050 - val_rpn_bbox_loss: 0.2599 - val_mrcnn_class_loss: 0.0171 - val_mrcnn_bbox_loss: 0.2512 - val_mrcnn_mask_loss: 0.0855\n",
      "Epoch 19/100\n",
      "100/100 [==============================] - 28s - loss: 0.2898 - rpn_class_loss: 0.0012 - rpn_bbox_loss: 0.0965 - mrcnn_class_loss: 0.0070 - mrcnn_bbox_loss: 0.0851 - mrcnn_mask_loss: 0.1000 - val_loss: 0.4122 - val_rpn_class_loss: 0.0024 - val_rpn_bbox_loss: 0.1491 - val_mrcnn_class_loss: 0.0097 - val_mrcnn_bbox_loss: 0.1586 - val_mrcnn_mask_loss: 0.0925\n",
      "Epoch 20/100\n",
      "100/100 [==============================] - 29s - loss: 0.2936 - rpn_class_loss: 0.0025 - rpn_bbox_loss: 0.1031 - mrcnn_class_loss: 0.0062 - mrcnn_bbox_loss: 0.0748 - mrcnn_mask_loss: 0.1070 - val_loss: 0.4108 - val_rpn_class_loss: 0.0030 - val_rpn_bbox_loss: 0.1438 - val_mrcnn_class_loss: 0.0115 - val_mrcnn_bbox_loss: 0.1513 - val_mrcnn_mask_loss: 0.1012\n",
      "Epoch 21/100\n",
      "100/100 [==============================] - 29s - loss: 0.2269 - rpn_class_loss: 0.0013 - rpn_bbox_loss: 0.0827 - mrcnn_class_loss: 0.0043 - mrcnn_bbox_loss: 0.0478 - mrcnn_mask_loss: 0.0907 - val_loss: 0.3211 - val_rpn_class_loss: 7.1777e-04 - val_rpn_bbox_loss: 0.1095 - val_mrcnn_class_loss: 0.0097 - val_mrcnn_bbox_loss: 0.1119 - val_mrcnn_mask_loss: 0.0892\n",
      "Epoch 22/100\n",
      "100/100 [==============================] - 28s - loss: 0.2761 - rpn_class_loss: 0.0037 - rpn_bbox_loss: 0.1098 - mrcnn_class_loss: 0.0062 - mrcnn_bbox_loss: 0.0654 - mrcnn_mask_loss: 0.0909 - val_loss: 0.4650 - val_rpn_class_loss: 0.0024 - val_rpn_bbox_loss: 0.1843 - val_mrcnn_class_loss: 0.0126 - val_mrcnn_bbox_loss: 0.1779 - val_mrcnn_mask_loss: 0.0877\n",
      "Epoch 23/100\n",
      "100/100 [==============================] - 28s - loss: 0.2570 - rpn_class_loss: 0.0041 - rpn_bbox_loss: 0.0998 - mrcnn_class_loss: 0.0038 - mrcnn_bbox_loss: 0.0609 - mrcnn_mask_loss: 0.0884 - val_loss: 0.4118 - val_rpn_class_loss: 0.0029 - val_rpn_bbox_loss: 0.1619 - val_mrcnn_class_loss: 0.0123 - val_mrcnn_bbox_loss: 0.1491 - val_mrcnn_mask_loss: 0.0856\n",
      "Epoch 24/100\n",
      "100/100 [==============================] - 29s - loss: 0.1870 - rpn_class_loss: 6.7721e-04 - rpn_bbox_loss: 0.0538 - mrcnn_class_loss: 0.0042 - mrcnn_bbox_loss: 0.0409 - mrcnn_mask_loss: 0.0873 - val_loss: 0.4391 - val_rpn_class_loss: 0.0010 - val_rpn_bbox_loss: 0.1714 - val_mrcnn_class_loss: 0.0103 - val_mrcnn_bbox_loss: 0.1729 - val_mrcnn_mask_loss: 0.0835\n",
      "Epoch 25/100\n",
      "100/100 [==============================] - 29s - loss: 0.2565 - rpn_class_loss: 0.0032 - rpn_bbox_loss: 0.0919 - mrcnn_class_loss: 0.0056 - mrcnn_bbox_loss: 0.0624 - mrcnn_mask_loss: 0.0933 - val_loss: 0.3618 - val_rpn_class_loss: 0.0033 - val_rpn_bbox_loss: 0.1313 - val_mrcnn_class_loss: 0.0098 - val_mrcnn_bbox_loss: 0.1244 - val_mrcnn_mask_loss: 0.0930\n",
      "Epoch 26/100\n",
      "100/100 [==============================] - 28s - loss: 0.4697 - rpn_class_loss: 0.0063 - rpn_bbox_loss: 0.2902 - mrcnn_class_loss: 0.0046 - mrcnn_bbox_loss: 0.0549 - mrcnn_mask_loss: 0.1137 - val_loss: 0.4265 - val_rpn_class_loss: 8.8344e-04 - val_rpn_bbox_loss: 0.1654 - val_mrcnn_class_loss: 0.0111 - val_mrcnn_bbox_loss: 0.1627 - val_mrcnn_mask_loss: 0.0864\n",
      "Epoch 27/100\n",
      "100/100 [==============================] - 29s - loss: 0.2971 - rpn_class_loss: 0.0030 - rpn_bbox_loss: 0.1167 - mrcnn_class_loss: 0.0054 - mrcnn_bbox_loss: 0.0675 - mrcnn_mask_loss: 0.1046 - val_loss: 0.3980 - val_rpn_class_loss: 0.0037 - val_rpn_bbox_loss: 0.1458 - val_mrcnn_class_loss: 0.0098 - val_mrcnn_bbox_loss: 0.1486 - val_mrcnn_mask_loss: 0.0901\n",
      "Epoch 28/100\n",
      "100/100 [==============================] - 28s - loss: 0.2634 - rpn_class_loss: 0.0037 - rpn_bbox_loss: 0.1074 - mrcnn_class_loss: 0.0073 - mrcnn_bbox_loss: 0.0570 - mrcnn_mask_loss: 0.0881 - val_loss: 0.4508 - val_rpn_class_loss: 9.2269e-04 - val_rpn_bbox_loss: 0.1716 - val_mrcnn_class_loss: 0.0141 - val_mrcnn_bbox_loss: 0.1762 - val_mrcnn_mask_loss: 0.0880\n",
      "Epoch 29/100\n",
      "100/100 [==============================] - 28s - loss: 0.2313 - rpn_class_loss: 0.0022 - rpn_bbox_loss: 0.0753 - mrcnn_class_loss: 0.0058 - mrcnn_bbox_loss: 0.0550 - mrcnn_mask_loss: 0.0929 - val_loss: 0.3746 - val_rpn_class_loss: 7.0154e-04 - val_rpn_bbox_loss: 0.1329 - val_mrcnn_class_loss: 0.0088 - val_mrcnn_bbox_loss: 0.1365 - val_mrcnn_mask_loss: 0.0956\n",
      "Epoch 30/100\n",
      "100/100 [==============================] - 28s - loss: 0.2243 - rpn_class_loss: 0.0023 - rpn_bbox_loss: 0.0784 - mrcnn_class_loss: 0.0035 - mrcnn_bbox_loss: 0.0503 - mrcnn_mask_loss: 0.0898 - val_loss: 0.4653 - val_rpn_class_loss: 0.0010 - val_rpn_bbox_loss: 0.1903 - val_mrcnn_class_loss: 0.0132 - val_mrcnn_bbox_loss: 0.1775 - val_mrcnn_mask_loss: 0.0833\n",
      "Epoch 31/100\n",
      "100/100 [==============================] - 28s - loss: 0.2435 - rpn_class_loss: 0.0025 - rpn_bbox_loss: 0.0926 - mrcnn_class_loss: 0.0054 - mrcnn_bbox_loss: 0.0539 - mrcnn_mask_loss: 0.0891 - val_loss: 0.4456 - val_rpn_class_loss: 0.0023 - val_rpn_bbox_loss: 0.1725 - val_mrcnn_class_loss: 0.0133 - val_mrcnn_bbox_loss: 0.1737 - val_mrcnn_mask_loss: 0.0838\n",
      "Epoch 32/100\n",
      "100/100 [==============================] - 28s - loss: 0.1901 - rpn_class_loss: 0.0021 - rpn_bbox_loss: 0.0537 - mrcnn_class_loss: 0.0046 - mrcnn_bbox_loss: 0.0435 - mrcnn_mask_loss: 0.0862 - val_loss: 0.4045 - val_rpn_class_loss: 8.6391e-04 - val_rpn_bbox_loss: 0.1416 - val_mrcnn_class_loss: 0.0122 - val_mrcnn_bbox_loss: 0.1624 - val_mrcnn_mask_loss: 0.0873\n",
      "Epoch 33/100\n"
     ]
    },
    {
     "name": "stdout",
     "output_type": "stream",
     "text": [
      "100/100 [==============================] - 28s - loss: 0.1910 - rpn_class_loss: 6.9616e-04 - rpn_bbox_loss: 0.0532 - mrcnn_class_loss: 0.0038 - mrcnn_bbox_loss: 0.0466 - mrcnn_mask_loss: 0.0867 - val_loss: 0.4517 - val_rpn_class_loss: 0.0052 - val_rpn_bbox_loss: 0.1695 - val_mrcnn_class_loss: 0.0144 - val_mrcnn_bbox_loss: 0.1735 - val_mrcnn_mask_loss: 0.0891\n",
      "Epoch 34/100\n",
      "100/100 [==============================] - 28s - loss: 0.1822 - rpn_class_loss: 6.0758e-04 - rpn_bbox_loss: 0.0480 - mrcnn_class_loss: 0.0023 - mrcnn_bbox_loss: 0.0411 - mrcnn_mask_loss: 0.0902 - val_loss: 0.3882 - val_rpn_class_loss: 6.0246e-04 - val_rpn_bbox_loss: 0.1467 - val_mrcnn_class_loss: 0.0110 - val_mrcnn_bbox_loss: 0.1448 - val_mrcnn_mask_loss: 0.0851\n",
      "Epoch 35/100\n",
      "100/100 [==============================] - 28s - loss: 0.2078 - rpn_class_loss: 0.0020 - rpn_bbox_loss: 0.0686 - mrcnn_class_loss: 0.0039 - mrcnn_bbox_loss: 0.0470 - mrcnn_mask_loss: 0.0864 - val_loss: 0.4058 - val_rpn_class_loss: 5.6810e-04 - val_rpn_bbox_loss: 0.1437 - val_mrcnn_class_loss: 0.0112 - val_mrcnn_bbox_loss: 0.1548 - val_mrcnn_mask_loss: 0.0955\n",
      "Epoch 36/100\n",
      "100/100 [==============================] - 28s - loss: 0.1886 - rpn_class_loss: 0.0011 - rpn_bbox_loss: 0.0511 - mrcnn_class_loss: 0.0030 - mrcnn_bbox_loss: 0.0469 - mrcnn_mask_loss: 0.0866 - val_loss: 0.4516 - val_rpn_class_loss: 0.0032 - val_rpn_bbox_loss: 0.1692 - val_mrcnn_class_loss: 0.0116 - val_mrcnn_bbox_loss: 0.1748 - val_mrcnn_mask_loss: 0.0929\n",
      "Epoch 37/100\n",
      "100/100 [==============================] - 28s - loss: 0.2461 - rpn_class_loss: 0.0018 - rpn_bbox_loss: 0.0786 - mrcnn_class_loss: 0.0033 - mrcnn_bbox_loss: 0.0453 - mrcnn_mask_loss: 0.1172 - val_loss: 0.4262 - val_rpn_class_loss: 9.9341e-04 - val_rpn_bbox_loss: 0.1584 - val_mrcnn_class_loss: 0.0159 - val_mrcnn_bbox_loss: 0.1700 - val_mrcnn_mask_loss: 0.0809\n",
      "Epoch 38/100\n",
      "100/100 [==============================] - 28s - loss: 0.2426 - rpn_class_loss: 0.0029 - rpn_bbox_loss: 0.1020 - mrcnn_class_loss: 0.0042 - mrcnn_bbox_loss: 0.0452 - mrcnn_mask_loss: 0.0883 - val_loss: 0.4023 - val_rpn_class_loss: 7.4072e-04 - val_rpn_bbox_loss: 0.1508 - val_mrcnn_class_loss: 0.0117 - val_mrcnn_bbox_loss: 0.1540 - val_mrcnn_mask_loss: 0.0851\n",
      "Epoch 39/100\n",
      "100/100 [==============================] - 28s - loss: 0.1618 - rpn_class_loss: 3.9507e-04 - rpn_bbox_loss: 0.0362 - mrcnn_class_loss: 0.0036 - mrcnn_bbox_loss: 0.0328 - mrcnn_mask_loss: 0.0889 - val_loss: 0.3720 - val_rpn_class_loss: 0.0029 - val_rpn_bbox_loss: 0.1268 - val_mrcnn_class_loss: 0.0110 - val_mrcnn_bbox_loss: 0.1452 - val_mrcnn_mask_loss: 0.0862\n",
      "Epoch 40/100\n",
      "100/100 [==============================] - 28s - loss: 0.1678 - rpn_class_loss: 5.4425e-04 - rpn_bbox_loss: 0.0383 - mrcnn_class_loss: 0.0034 - mrcnn_bbox_loss: 0.0356 - mrcnn_mask_loss: 0.0899 - val_loss: 0.4167 - val_rpn_class_loss: 0.0010 - val_rpn_bbox_loss: 0.1613 - val_mrcnn_class_loss: 0.0141 - val_mrcnn_bbox_loss: 0.1610 - val_mrcnn_mask_loss: 0.0793\n",
      "Epoch 41/100\n",
      "100/100 [==============================] - 28s - loss: 0.1524 - rpn_class_loss: 5.5522e-04 - rpn_bbox_loss: 0.0393 - mrcnn_class_loss: 0.0040 - mrcnn_bbox_loss: 0.0343 - mrcnn_mask_loss: 0.0743 - val_loss: 0.3131 - val_rpn_class_loss: 0.0027 - val_rpn_bbox_loss: 0.0998 - val_mrcnn_class_loss: 0.0093 - val_mrcnn_bbox_loss: 0.1157 - val_mrcnn_mask_loss: 0.0857\n",
      "Epoch 42/100\n",
      "100/100 [==============================] - 28s - loss: 0.1836 - rpn_class_loss: 0.0015 - rpn_bbox_loss: 0.0506 - mrcnn_class_loss: 0.0031 - mrcnn_bbox_loss: 0.0416 - mrcnn_mask_loss: 0.0868 - val_loss: 0.3660 - val_rpn_class_loss: 0.0010 - val_rpn_bbox_loss: 0.1275 - val_mrcnn_class_loss: 0.0145 - val_mrcnn_bbox_loss: 0.1385 - val_mrcnn_mask_loss: 0.0845\n",
      "Epoch 43/100\n",
      "100/100 [==============================] - 28s - loss: 0.1687 - rpn_class_loss: 0.0012 - rpn_bbox_loss: 0.0466 - mrcnn_class_loss: 0.0043 - mrcnn_bbox_loss: 0.0358 - mrcnn_mask_loss: 0.0807 - val_loss: 0.3599 - val_rpn_class_loss: 5.5835e-04 - val_rpn_bbox_loss: 0.1302 - val_mrcnn_class_loss: 0.0123 - val_mrcnn_bbox_loss: 0.1407 - val_mrcnn_mask_loss: 0.0761\n",
      "Epoch 44/100\n",
      "100/100 [==============================] - 28s - loss: 0.1833 - rpn_class_loss: 0.0020 - rpn_bbox_loss: 0.0595 - mrcnn_class_loss: 0.0034 - mrcnn_bbox_loss: 0.0309 - mrcnn_mask_loss: 0.0876 - val_loss: 0.3726 - val_rpn_class_loss: 0.0049 - val_rpn_bbox_loss: 0.1293 - val_mrcnn_class_loss: 0.0115 - val_mrcnn_bbox_loss: 0.1402 - val_mrcnn_mask_loss: 0.0866\n",
      "Epoch 45/100\n",
      "100/100 [==============================] - 28s - loss: 0.1733 - rpn_class_loss: 3.7788e-04 - rpn_bbox_loss: 0.0425 - mrcnn_class_loss: 0.0038 - mrcnn_bbox_loss: 0.0479 - mrcnn_mask_loss: 0.0787 - val_loss: 0.3739 - val_rpn_class_loss: 8.0945e-04 - val_rpn_bbox_loss: 0.1322 - val_mrcnn_class_loss: 0.0103 - val_mrcnn_bbox_loss: 0.1502 - val_mrcnn_mask_loss: 0.0804\n",
      "Epoch 46/100\n",
      "100/100 [==============================] - 28s - loss: 0.2270 - rpn_class_loss: 0.0014 - rpn_bbox_loss: 0.0702 - mrcnn_class_loss: 0.0043 - mrcnn_bbox_loss: 0.0608 - mrcnn_mask_loss: 0.0902 - val_loss: 0.4101 - val_rpn_class_loss: 4.2550e-04 - val_rpn_bbox_loss: 0.1470 - val_mrcnn_class_loss: 0.0136 - val_mrcnn_bbox_loss: 0.1614 - val_mrcnn_mask_loss: 0.0876\n",
      "Epoch 47/100\n",
      "100/100 [==============================] - 28s - loss: 0.1699 - rpn_class_loss: 3.5785e-04 - rpn_bbox_loss: 0.0412 - mrcnn_class_loss: 0.0038 - mrcnn_bbox_loss: 0.0391 - mrcnn_mask_loss: 0.0854 - val_loss: 0.4831 - val_rpn_class_loss: 0.0029 - val_rpn_bbox_loss: 0.1791 - val_mrcnn_class_loss: 0.0178 - val_mrcnn_bbox_loss: 0.1852 - val_mrcnn_mask_loss: 0.0981\n",
      "Epoch 48/100\n",
      "100/100 [==============================] - 28s - loss: 0.1864 - rpn_class_loss: 0.0020 - rpn_bbox_loss: 0.0540 - mrcnn_class_loss: 0.0058 - mrcnn_bbox_loss: 0.0370 - mrcnn_mask_loss: 0.0876 - val_loss: 0.3029 - val_rpn_class_loss: 5.5610e-04 - val_rpn_bbox_loss: 0.0953 - val_mrcnn_class_loss: 0.0094 - val_mrcnn_bbox_loss: 0.1193 - val_mrcnn_mask_loss: 0.0783\n",
      "Epoch 49/100\n",
      "100/100 [==============================] - 28s - loss: 0.1520 - rpn_class_loss: 3.7553e-04 - rpn_bbox_loss: 0.0320 - mrcnn_class_loss: 0.0037 - mrcnn_bbox_loss: 0.0338 - mrcnn_mask_loss: 0.0820 - val_loss: 0.2909 - val_rpn_class_loss: 0.0025 - val_rpn_bbox_loss: 0.1022 - val_mrcnn_class_loss: 0.0107 - val_mrcnn_bbox_loss: 0.1006 - val_mrcnn_mask_loss: 0.0749\n",
      "Epoch 50/100\n",
      "100/100 [==============================] - 28s - loss: 0.2256 - rpn_class_loss: 0.0018 - rpn_bbox_loss: 0.0602 - mrcnn_class_loss: 0.0073 - mrcnn_bbox_loss: 0.0572 - mrcnn_mask_loss: 0.0991 - val_loss: 0.4866 - val_rpn_class_loss: 0.0038 - val_rpn_bbox_loss: 0.1912 - val_mrcnn_class_loss: 0.0214 - val_mrcnn_bbox_loss: 0.1877 - val_mrcnn_mask_loss: 0.0825\n",
      "Epoch 51/100\n",
      "100/100 [==============================] - 28s - loss: 0.1736 - rpn_class_loss: 4.7469e-04 - rpn_bbox_loss: 0.0409 - mrcnn_class_loss: 0.0047 - mrcnn_bbox_loss: 0.0414 - mrcnn_mask_loss: 0.0861 - val_loss: 0.2989 - val_rpn_class_loss: 3.6715e-04 - val_rpn_bbox_loss: 0.1004 - val_mrcnn_class_loss: 0.0115 - val_mrcnn_bbox_loss: 0.1046 - val_mrcnn_mask_loss: 0.0820\n",
      "Epoch 52/100\n",
      "100/100 [==============================] - 28s - loss: 0.1546 - rpn_class_loss: 2.7933e-04 - rpn_bbox_loss: 0.0337 - mrcnn_class_loss: 0.0036 - mrcnn_bbox_loss: 0.0329 - mrcnn_mask_loss: 0.0841 - val_loss: 0.2836 - val_rpn_class_loss: 4.6321e-04 - val_rpn_bbox_loss: 0.0865 - val_mrcnn_class_loss: 0.0094 - val_mrcnn_bbox_loss: 0.0942 - val_mrcnn_mask_loss: 0.0931\n",
      "Epoch 53/100\n",
      "100/100 [==============================] - 28s - loss: 0.1929 - rpn_class_loss: 0.0018 - rpn_bbox_loss: 0.0554 - mrcnn_class_loss: 0.0025 - mrcnn_bbox_loss: 0.0445 - mrcnn_mask_loss: 0.0888 - val_loss: 0.3704 - val_rpn_class_loss: 6.3303e-04 - val_rpn_bbox_loss: 0.1347 - val_mrcnn_class_loss: 0.0087 - val_mrcnn_bbox_loss: 0.1370 - val_mrcnn_mask_loss: 0.0893\n",
      "Epoch 54/100\n"
     ]
    },
    {
     "name": "stdout",
     "output_type": "stream",
     "text": [
      "100/100 [==============================] - 28s - loss: 0.2463 - rpn_class_loss: 0.0031 - rpn_bbox_loss: 0.0801 - mrcnn_class_loss: 0.0061 - mrcnn_bbox_loss: 0.0666 - mrcnn_mask_loss: 0.0903 - val_loss: 0.4562 - val_rpn_class_loss: 0.0070 - val_rpn_bbox_loss: 0.1566 - val_mrcnn_class_loss: 0.0189 - val_mrcnn_bbox_loss: 0.1761 - val_mrcnn_mask_loss: 0.0976\n",
      "Epoch 55/100\n",
      "100/100 [==============================] - 28s - loss: 0.1917 - rpn_class_loss: 8.2628e-04 - rpn_bbox_loss: 0.0515 - mrcnn_class_loss: 0.0040 - mrcnn_bbox_loss: 0.0465 - mrcnn_mask_loss: 0.0888 - val_loss: 0.3774 - val_rpn_class_loss: 5.4413e-04 - val_rpn_bbox_loss: 0.1455 - val_mrcnn_class_loss: 0.0113 - val_mrcnn_bbox_loss: 0.1424 - val_mrcnn_mask_loss: 0.0777\n",
      "Epoch 56/100\n",
      "100/100 [==============================] - 28s - loss: 0.1977 - rpn_class_loss: 0.0015 - rpn_bbox_loss: 0.0652 - mrcnn_class_loss: 0.0040 - mrcnn_bbox_loss: 0.0464 - mrcnn_mask_loss: 0.0807 - val_loss: 0.3517 - val_rpn_class_loss: 0.0025 - val_rpn_bbox_loss: 0.1152 - val_mrcnn_class_loss: 0.0112 - val_mrcnn_bbox_loss: 0.1331 - val_mrcnn_mask_loss: 0.0897\n",
      "Epoch 57/100\n",
      "100/100 [==============================] - 28s - loss: 0.1953 - rpn_class_loss: 8.9552e-04 - rpn_bbox_loss: 0.0588 - mrcnn_class_loss: 0.0046 - mrcnn_bbox_loss: 0.0434 - mrcnn_mask_loss: 0.0876 - val_loss: 0.4433 - val_rpn_class_loss: 5.5504e-04 - val_rpn_bbox_loss: 0.1716 - val_mrcnn_class_loss: 0.0179 - val_mrcnn_bbox_loss: 0.1733 - val_mrcnn_mask_loss: 0.0801\n",
      "Epoch 58/100\n",
      "100/100 [==============================] - 29s - loss: 0.1674 - rpn_class_loss: 4.5586e-04 - rpn_bbox_loss: 0.0393 - mrcnn_class_loss: 0.0042 - mrcnn_bbox_loss: 0.0419 - mrcnn_mask_loss: 0.0815 - val_loss: 0.3619 - val_rpn_class_loss: 0.0028 - val_rpn_bbox_loss: 0.1230 - val_mrcnn_class_loss: 0.0178 - val_mrcnn_bbox_loss: 0.1385 - val_mrcnn_mask_loss: 0.0797\n",
      "Epoch 59/100\n",
      "100/100 [==============================] - 28s - loss: 0.1921 - rpn_class_loss: 6.6459e-04 - rpn_bbox_loss: 0.0624 - mrcnn_class_loss: 0.0027 - mrcnn_bbox_loss: 0.0398 - mrcnn_mask_loss: 0.0866 - val_loss: 0.3665 - val_rpn_class_loss: 0.0025 - val_rpn_bbox_loss: 0.1290 - val_mrcnn_class_loss: 0.0130 - val_mrcnn_bbox_loss: 0.1454 - val_mrcnn_mask_loss: 0.0766\n",
      "Epoch 60/100\n",
      "100/100 [==============================] - 28s - loss: 0.1692 - rpn_class_loss: 5.5412e-04 - rpn_bbox_loss: 0.0510 - mrcnn_class_loss: 0.0040 - mrcnn_bbox_loss: 0.0380 - mrcnn_mask_loss: 0.0757 - val_loss: 0.4344 - val_rpn_class_loss: 0.0045 - val_rpn_bbox_loss: 0.1553 - val_mrcnn_class_loss: 0.0181 - val_mrcnn_bbox_loss: 0.1778 - val_mrcnn_mask_loss: 0.0787\n",
      "Epoch 61/100\n",
      "100/100 [==============================] - 28s - loss: 0.1867 - rpn_class_loss: 0.0029 - rpn_bbox_loss: 0.0599 - mrcnn_class_loss: 0.0052 - mrcnn_bbox_loss: 0.0383 - mrcnn_mask_loss: 0.0803 - val_loss: 0.3626 - val_rpn_class_loss: 0.0051 - val_rpn_bbox_loss: 0.1269 - val_mrcnn_class_loss: 0.0198 - val_mrcnn_bbox_loss: 0.1344 - val_mrcnn_mask_loss: 0.0764\n",
      "Epoch 62/100\n",
      "100/100 [==============================] - 28s - loss: 0.1973 - rpn_class_loss: 0.0010 - rpn_bbox_loss: 0.0448 - mrcnn_class_loss: 0.0056 - mrcnn_bbox_loss: 0.0481 - mrcnn_mask_loss: 0.0978 - val_loss: 0.3278 - val_rpn_class_loss: 4.9112e-04 - val_rpn_bbox_loss: 0.1115 - val_mrcnn_class_loss: 0.0078 - val_mrcnn_bbox_loss: 0.1258 - val_mrcnn_mask_loss: 0.0822\n",
      "Epoch 63/100\n",
      "100/100 [==============================] - 28s - loss: 0.2327 - rpn_class_loss: 0.0034 - rpn_bbox_loss: 0.0752 - mrcnn_class_loss: 0.0069 - mrcnn_bbox_loss: 0.0654 - mrcnn_mask_loss: 0.0817 - val_loss: 0.3804 - val_rpn_class_loss: 3.6342e-04 - val_rpn_bbox_loss: 0.1351 - val_mrcnn_class_loss: 0.0152 - val_mrcnn_bbox_loss: 0.1397 - val_mrcnn_mask_loss: 0.0900\n",
      "Epoch 64/100\n",
      "100/100 [==============================] - 28s - loss: 0.1685 - rpn_class_loss: 0.0015 - rpn_bbox_loss: 0.0387 - mrcnn_class_loss: 0.0040 - mrcnn_bbox_loss: 0.0400 - mrcnn_mask_loss: 0.0842 - val_loss: 0.4179 - val_rpn_class_loss: 4.1051e-04 - val_rpn_bbox_loss: 0.1640 - val_mrcnn_class_loss: 0.0158 - val_mrcnn_bbox_loss: 0.1626 - val_mrcnn_mask_loss: 0.0751\n",
      "Epoch 65/100\n",
      "100/100 [==============================] - 28s - loss: 0.1743 - rpn_class_loss: 0.0016 - rpn_bbox_loss: 0.0577 - mrcnn_class_loss: 0.0032 - mrcnn_bbox_loss: 0.0399 - mrcnn_mask_loss: 0.0719 - val_loss: 0.3538 - val_rpn_class_loss: 0.0031 - val_rpn_bbox_loss: 0.1131 - val_mrcnn_class_loss: 0.0110 - val_mrcnn_bbox_loss: 0.1375 - val_mrcnn_mask_loss: 0.0891\n",
      "Epoch 66/100\n",
      "100/100 [==============================] - 28s - loss: 0.1777 - rpn_class_loss: 9.8772e-04 - rpn_bbox_loss: 0.0508 - mrcnn_class_loss: 0.0027 - mrcnn_bbox_loss: 0.0398 - mrcnn_mask_loss: 0.0833 - val_loss: 0.3550 - val_rpn_class_loss: 7.8855e-04 - val_rpn_bbox_loss: 0.1251 - val_mrcnn_class_loss: 0.0108 - val_mrcnn_bbox_loss: 0.1380 - val_mrcnn_mask_loss: 0.0803\n",
      "Epoch 67/100\n",
      "100/100 [==============================] - 28s - loss: 0.1464 - rpn_class_loss: 5.7465e-04 - rpn_bbox_loss: 0.0281 - mrcnn_class_loss: 0.0064 - mrcnn_bbox_loss: 0.0303 - mrcnn_mask_loss: 0.0810 - val_loss: 0.3973 - val_rpn_class_loss: 0.0025 - val_rpn_bbox_loss: 0.1489 - val_mrcnn_class_loss: 0.0146 - val_mrcnn_bbox_loss: 0.1515 - val_mrcnn_mask_loss: 0.0797\n",
      "Epoch 68/100\n",
      "100/100 [==============================] - 28s - loss: 0.1899 - rpn_class_loss: 0.0016 - rpn_bbox_loss: 0.0517 - mrcnn_class_loss: 0.0042 - mrcnn_bbox_loss: 0.0490 - mrcnn_mask_loss: 0.0833 - val_loss: 0.4572 - val_rpn_class_loss: 0.0029 - val_rpn_bbox_loss: 0.1550 - val_mrcnn_class_loss: 0.0138 - val_mrcnn_bbox_loss: 0.1955 - val_mrcnn_mask_loss: 0.0901\n",
      "Epoch 69/100\n",
      "100/100 [==============================] - 28s - loss: 0.1625 - rpn_class_loss: 2.1047e-04 - rpn_bbox_loss: 0.0341 - mrcnn_class_loss: 0.0031 - mrcnn_bbox_loss: 0.0344 - mrcnn_mask_loss: 0.0908 - val_loss: 0.3664 - val_rpn_class_loss: 0.0050 - val_rpn_bbox_loss: 0.1232 - val_mrcnn_class_loss: 0.0111 - val_mrcnn_bbox_loss: 0.1548 - val_mrcnn_mask_loss: 0.0724\n",
      "Epoch 70/100\n",
      "100/100 [==============================] - 28s - loss: 0.1853 - rpn_class_loss: 4.7067e-04 - rpn_bbox_loss: 0.0437 - mrcnn_class_loss: 0.0039 - mrcnn_bbox_loss: 0.0504 - mrcnn_mask_loss: 0.0868 - val_loss: 0.4181 - val_rpn_class_loss: 7.1894e-04 - val_rpn_bbox_loss: 0.1618 - val_mrcnn_class_loss: 0.0142 - val_mrcnn_bbox_loss: 0.1638 - val_mrcnn_mask_loss: 0.0776\n",
      "Epoch 71/100\n",
      "100/100 [==============================] - 28s - loss: 0.1405 - rpn_class_loss: 2.3386e-04 - rpn_bbox_loss: 0.0301 - mrcnn_class_loss: 0.0032 - mrcnn_bbox_loss: 0.0283 - mrcnn_mask_loss: 0.0787 - val_loss: 0.3556 - val_rpn_class_loss: 0.0031 - val_rpn_bbox_loss: 0.1240 - val_mrcnn_class_loss: 0.0129 - val_mrcnn_bbox_loss: 0.1374 - val_mrcnn_mask_loss: 0.0782\n",
      "Epoch 72/100\n",
      "100/100 [==============================] - 28s - loss: 0.1748 - rpn_class_loss: 0.0030 - rpn_bbox_loss: 0.0514 - mrcnn_class_loss: 0.0034 - mrcnn_bbox_loss: 0.0305 - mrcnn_mask_loss: 0.0864 - val_loss: 0.4549 - val_rpn_class_loss: 0.0041 - val_rpn_bbox_loss: 0.1800 - val_mrcnn_class_loss: 0.0131 - val_mrcnn_bbox_loss: 0.1751 - val_mrcnn_mask_loss: 0.0827\n",
      "Epoch 73/100\n",
      "100/100 [==============================] - 28s - loss: 0.1938 - rpn_class_loss: 0.0022 - rpn_bbox_loss: 0.0575 - mrcnn_class_loss: 0.0047 - mrcnn_bbox_loss: 0.0480 - mrcnn_mask_loss: 0.0815 - val_loss: 0.4980 - val_rpn_class_loss: 0.0062 - val_rpn_bbox_loss: 0.1861 - val_mrcnn_class_loss: 0.0129 - val_mrcnn_bbox_loss: 0.2007 - val_mrcnn_mask_loss: 0.0920\n",
      "Epoch 74/100\n",
      "100/100 [==============================] - 28s - loss: 0.1768 - rpn_class_loss: 5.2492e-04 - rpn_bbox_loss: 0.0435 - mrcnn_class_loss: 0.0050 - mrcnn_bbox_loss: 0.0450 - mrcnn_mask_loss: 0.0828 - val_loss: 0.2983 - val_rpn_class_loss: 6.7228e-04 - val_rpn_bbox_loss: 0.1041 - val_mrcnn_class_loss: 0.0093 - val_mrcnn_bbox_loss: 0.1060 - val_mrcnn_mask_loss: 0.0782\n",
      "Epoch 75/100\n"
     ]
    },
    {
     "name": "stdout",
     "output_type": "stream",
     "text": [
      "100/100 [==============================] - 28s - loss: 0.1530 - rpn_class_loss: 5.6697e-04 - rpn_bbox_loss: 0.0352 - mrcnn_class_loss: 0.0027 - mrcnn_bbox_loss: 0.0284 - mrcnn_mask_loss: 0.0861 - val_loss: 0.3513 - val_rpn_class_loss: 0.0011 - val_rpn_bbox_loss: 0.1196 - val_mrcnn_class_loss: 0.0134 - val_mrcnn_bbox_loss: 0.1321 - val_mrcnn_mask_loss: 0.0851\n",
      "Epoch 76/100\n",
      "100/100 [==============================] - 28s - loss: 0.1663 - rpn_class_loss: 7.9816e-04 - rpn_bbox_loss: 0.0395 - mrcnn_class_loss: 0.0072 - mrcnn_bbox_loss: 0.0404 - mrcnn_mask_loss: 0.0784 - val_loss: 0.4791 - val_rpn_class_loss: 4.2302e-04 - val_rpn_bbox_loss: 0.1832 - val_mrcnn_class_loss: 0.0164 - val_mrcnn_bbox_loss: 0.2016 - val_mrcnn_mask_loss: 0.0775\n",
      "Epoch 77/100\n",
      "100/100 [==============================] - 28s - loss: 0.2250 - rpn_class_loss: 0.0053 - rpn_bbox_loss: 0.0770 - mrcnn_class_loss: 0.0058 - mrcnn_bbox_loss: 0.0453 - mrcnn_mask_loss: 0.0916 - val_loss: 0.3761 - val_rpn_class_loss: 0.0029 - val_rpn_bbox_loss: 0.1381 - val_mrcnn_class_loss: 0.0130 - val_mrcnn_bbox_loss: 0.1376 - val_mrcnn_mask_loss: 0.0845\n",
      "Epoch 78/100\n",
      "100/100 [==============================] - 28s - loss: 0.1732 - rpn_class_loss: 0.0013 - rpn_bbox_loss: 0.0411 - mrcnn_class_loss: 0.0049 - mrcnn_bbox_loss: 0.0406 - mrcnn_mask_loss: 0.0853 - val_loss: 0.3490 - val_rpn_class_loss: 4.2687e-04 - val_rpn_bbox_loss: 0.1257 - val_mrcnn_class_loss: 0.0089 - val_mrcnn_bbox_loss: 0.1332 - val_mrcnn_mask_loss: 0.0808\n",
      "Epoch 79/100\n",
      "100/100 [==============================] - 28s - loss: 0.1680 - rpn_class_loss: 7.0856e-04 - rpn_bbox_loss: 0.0460 - mrcnn_class_loss: 0.0046 - mrcnn_bbox_loss: 0.0401 - mrcnn_mask_loss: 0.0766 - val_loss: 0.3184 - val_rpn_class_loss: 4.5874e-04 - val_rpn_bbox_loss: 0.1126 - val_mrcnn_class_loss: 0.0089 - val_mrcnn_bbox_loss: 0.1135 - val_mrcnn_mask_loss: 0.0830\n",
      "Epoch 80/100\n",
      "100/100 [==============================] - 27s - loss: 0.1602 - rpn_class_loss: 2.3635e-04 - rpn_bbox_loss: 0.0382 - mrcnn_class_loss: 0.0044 - mrcnn_bbox_loss: 0.0384 - mrcnn_mask_loss: 0.0790 - val_loss: 0.3484 - val_rpn_class_loss: 2.8262e-04 - val_rpn_bbox_loss: 0.1253 - val_mrcnn_class_loss: 0.0096 - val_mrcnn_bbox_loss: 0.1334 - val_mrcnn_mask_loss: 0.0799\n",
      "Epoch 81/100\n",
      "100/100 [==============================] - 28s - loss: 0.2039 - rpn_class_loss: 0.0012 - rpn_bbox_loss: 0.0477 - mrcnn_class_loss: 0.0033 - mrcnn_bbox_loss: 0.0460 - mrcnn_mask_loss: 0.1057 - val_loss: 0.3829 - val_rpn_class_loss: 3.3826e-04 - val_rpn_bbox_loss: 0.1331 - val_mrcnn_class_loss: 0.0103 - val_mrcnn_bbox_loss: 0.1515 - val_mrcnn_mask_loss: 0.0877\n",
      "Epoch 82/100\n",
      "100/100 [==============================] - 28s - loss: 0.1548 - rpn_class_loss: 0.0012 - rpn_bbox_loss: 0.0319 - mrcnn_class_loss: 0.0049 - mrcnn_bbox_loss: 0.0326 - mrcnn_mask_loss: 0.0842 - val_loss: 0.3648 - val_rpn_class_loss: 3.7780e-04 - val_rpn_bbox_loss: 0.1310 - val_mrcnn_class_loss: 0.0112 - val_mrcnn_bbox_loss: 0.1414 - val_mrcnn_mask_loss: 0.0809\n",
      "Epoch 83/100\n",
      "100/100 [==============================] - 28s - loss: 0.1366 - rpn_class_loss: 2.8458e-04 - rpn_bbox_loss: 0.0242 - mrcnn_class_loss: 0.0050 - mrcnn_bbox_loss: 0.0258 - mrcnn_mask_loss: 0.0814 - val_loss: 0.5524 - val_rpn_class_loss: 0.0011 - val_rpn_bbox_loss: 0.2144 - val_mrcnn_class_loss: 0.0170 - val_mrcnn_bbox_loss: 0.2395 - val_mrcnn_mask_loss: 0.0803\n",
      "Epoch 84/100\n",
      "100/100 [==============================] - 28s - loss: 0.1879 - rpn_class_loss: 7.7074e-04 - rpn_bbox_loss: 0.0480 - mrcnn_class_loss: 0.0052 - mrcnn_bbox_loss: 0.0462 - mrcnn_mask_loss: 0.0877 - val_loss: 0.4044 - val_rpn_class_loss: 7.3277e-04 - val_rpn_bbox_loss: 0.1451 - val_mrcnn_class_loss: 0.0137 - val_mrcnn_bbox_loss: 0.1601 - val_mrcnn_mask_loss: 0.0848\n",
      "Epoch 85/100\n",
      "100/100 [==============================] - 28s - loss: 0.1350 - rpn_class_loss: 3.3306e-04 - rpn_bbox_loss: 0.0272 - mrcnn_class_loss: 0.0034 - mrcnn_bbox_loss: 0.0316 - mrcnn_mask_loss: 0.0724 - val_loss: 0.4229 - val_rpn_class_loss: 0.0047 - val_rpn_bbox_loss: 0.1553 - val_mrcnn_class_loss: 0.0183 - val_mrcnn_bbox_loss: 0.1503 - val_mrcnn_mask_loss: 0.0942\n",
      "Epoch 86/100\n",
      "100/100 [==============================] - 28s - loss: 0.1543 - rpn_class_loss: 4.0308e-04 - rpn_bbox_loss: 0.0369 - mrcnn_class_loss: 0.0024 - mrcnn_bbox_loss: 0.0353 - mrcnn_mask_loss: 0.0792 - val_loss: 0.4160 - val_rpn_class_loss: 0.0050 - val_rpn_bbox_loss: 0.1620 - val_mrcnn_class_loss: 0.0199 - val_mrcnn_bbox_loss: 0.1501 - val_mrcnn_mask_loss: 0.0790\n",
      "Epoch 87/100\n",
      "100/100 [==============================] - 28s - loss: 0.1438 - rpn_class_loss: 3.5581e-04 - rpn_bbox_loss: 0.0334 - mrcnn_class_loss: 0.0029 - mrcnn_bbox_loss: 0.0313 - mrcnn_mask_loss: 0.0758 - val_loss: 0.3626 - val_rpn_class_loss: 4.2223e-04 - val_rpn_bbox_loss: 0.1356 - val_mrcnn_class_loss: 0.0094 - val_mrcnn_bbox_loss: 0.1320 - val_mrcnn_mask_loss: 0.0851\n",
      "Epoch 88/100\n",
      "100/100 [==============================] - 27s - loss: 0.1692 - rpn_class_loss: 8.3741e-04 - rpn_bbox_loss: 0.0452 - mrcnn_class_loss: 0.0029 - mrcnn_bbox_loss: 0.0398 - mrcnn_mask_loss: 0.0804 - val_loss: 0.3665 - val_rpn_class_loss: 0.0070 - val_rpn_bbox_loss: 0.1272 - val_mrcnn_class_loss: 0.0114 - val_mrcnn_bbox_loss: 0.1373 - val_mrcnn_mask_loss: 0.0835\n",
      "Epoch 89/100\n",
      "100/100 [==============================] - 28s - loss: 0.1686 - rpn_class_loss: 8.5645e-04 - rpn_bbox_loss: 0.0389 - mrcnn_class_loss: 0.0049 - mrcnn_bbox_loss: 0.0395 - mrcnn_mask_loss: 0.0844 - val_loss: 0.3146 - val_rpn_class_loss: 7.2369e-04 - val_rpn_bbox_loss: 0.1050 - val_mrcnn_class_loss: 0.0098 - val_mrcnn_bbox_loss: 0.1182 - val_mrcnn_mask_loss: 0.0807\n",
      "Epoch 90/100\n",
      "100/100 [==============================] - 28s - loss: 0.2172 - rpn_class_loss: 0.0017 - rpn_bbox_loss: 0.0681 - mrcnn_class_loss: 0.0061 - mrcnn_bbox_loss: 0.0530 - mrcnn_mask_loss: 0.0882 - val_loss: 0.3073 - val_rpn_class_loss: 0.0044 - val_rpn_bbox_loss: 0.1076 - val_mrcnn_class_loss: 0.0073 - val_mrcnn_bbox_loss: 0.1125 - val_mrcnn_mask_loss: 0.0754\n",
      "Epoch 91/100\n",
      "100/100 [==============================] - 27s - loss: 0.1916 - rpn_class_loss: 0.0011 - rpn_bbox_loss: 0.0450 - mrcnn_class_loss: 0.0028 - mrcnn_bbox_loss: 0.0404 - mrcnn_mask_loss: 0.1022 - val_loss: 0.3526 - val_rpn_class_loss: 2.2010e-04 - val_rpn_bbox_loss: 0.1258 - val_mrcnn_class_loss: 0.0101 - val_mrcnn_bbox_loss: 0.1328 - val_mrcnn_mask_loss: 0.0836\n",
      "Epoch 92/100\n",
      "100/100 [==============================] - 27s - loss: 0.1318 - rpn_class_loss: 1.9803e-04 - rpn_bbox_loss: 0.0247 - mrcnn_class_loss: 0.0025 - mrcnn_bbox_loss: 0.0243 - mrcnn_mask_loss: 0.0800 - val_loss: 0.3405 - val_rpn_class_loss: 5.1982e-04 - val_rpn_bbox_loss: 0.1104 - val_mrcnn_class_loss: 0.0087 - val_mrcnn_bbox_loss: 0.1322 - val_mrcnn_mask_loss: 0.0887\n",
      "Epoch 93/100\n",
      "100/100 [==============================] - 28s - loss: 0.1495 - rpn_class_loss: 6.8636e-04 - rpn_bbox_loss: 0.0330 - mrcnn_class_loss: 0.0041 - mrcnn_bbox_loss: 0.0314 - mrcnn_mask_loss: 0.0803 - val_loss: 0.4491 - val_rpn_class_loss: 3.7910e-04 - val_rpn_bbox_loss: 0.1682 - val_mrcnn_class_loss: 0.0249 - val_mrcnn_bbox_loss: 0.1733 - val_mrcnn_mask_loss: 0.0823\n",
      "Epoch 94/100\n",
      "100/100 [==============================] - 28s - loss: 0.1240 - rpn_class_loss: 1.5564e-04 - rpn_bbox_loss: 0.0219 - mrcnn_class_loss: 0.0026 - mrcnn_bbox_loss: 0.0226 - mrcnn_mask_loss: 0.0767 - val_loss: 0.3594 - val_rpn_class_loss: 6.4682e-04 - val_rpn_bbox_loss: 0.1334 - val_mrcnn_class_loss: 0.0162 - val_mrcnn_bbox_loss: 0.1373 - val_mrcnn_mask_loss: 0.0718\n",
      "Epoch 95/100\n",
      "100/100 [==============================] - 27s - loss: 0.1421 - rpn_class_loss: 5.3083e-04 - rpn_bbox_loss: 0.0268 - mrcnn_class_loss: 0.0027 - mrcnn_bbox_loss: 0.0243 - mrcnn_mask_loss: 0.0877 - val_loss: 0.4081 - val_rpn_class_loss: 0.0041 - val_rpn_bbox_loss: 0.1561 - val_mrcnn_class_loss: 0.0129 - val_mrcnn_bbox_loss: 0.1579 - val_mrcnn_mask_loss: 0.0771\n",
      "Epoch 96/100\n"
     ]
    },
    {
     "name": "stdout",
     "output_type": "stream",
     "text": [
      "100/100 [==============================] - 27s - loss: 0.1542 - rpn_class_loss: 3.1157e-04 - rpn_bbox_loss: 0.0331 - mrcnn_class_loss: 0.0038 - mrcnn_bbox_loss: 0.0370 - mrcnn_mask_loss: 0.0801 - val_loss: 0.4123 - val_rpn_class_loss: 8.4708e-04 - val_rpn_bbox_loss: 0.1597 - val_mrcnn_class_loss: 0.0150 - val_mrcnn_bbox_loss: 0.1607 - val_mrcnn_mask_loss: 0.0760\n",
      "Epoch 97/100\n",
      "100/100 [==============================] - 27s - loss: 0.1593 - rpn_class_loss: 0.0028 - rpn_bbox_loss: 0.0450 - mrcnn_class_loss: 0.0044 - mrcnn_bbox_loss: 0.0329 - mrcnn_mask_loss: 0.0742 - val_loss: 0.3853 - val_rpn_class_loss: 0.0045 - val_rpn_bbox_loss: 0.1425 - val_mrcnn_class_loss: 0.0162 - val_mrcnn_bbox_loss: 0.1417 - val_mrcnn_mask_loss: 0.0804\n",
      "Epoch 98/100\n",
      "100/100 [==============================] - 27s - loss: 0.1699 - rpn_class_loss: 7.1369e-04 - rpn_bbox_loss: 0.0384 - mrcnn_class_loss: 0.0048 - mrcnn_bbox_loss: 0.0397 - mrcnn_mask_loss: 0.0863 - val_loss: 0.4306 - val_rpn_class_loss: 8.2278e-04 - val_rpn_bbox_loss: 0.1615 - val_mrcnn_class_loss: 0.0216 - val_mrcnn_bbox_loss: 0.1685 - val_mrcnn_mask_loss: 0.0782\n",
      "Epoch 99/100\n",
      "100/100 [==============================] - 27s - loss: 0.1774 - rpn_class_loss: 2.0935e-04 - rpn_bbox_loss: 0.0481 - mrcnn_class_loss: 0.0041 - mrcnn_bbox_loss: 0.0446 - mrcnn_mask_loss: 0.0805 - val_loss: 0.3339 - val_rpn_class_loss: 0.0048 - val_rpn_bbox_loss: 0.1151 - val_mrcnn_class_loss: 0.0104 - val_mrcnn_bbox_loss: 0.1233 - val_mrcnn_mask_loss: 0.0804\n",
      "Epoch 100/100\n",
      "100/100 [==============================] - 27s - loss: 0.1871 - rpn_class_loss: 0.0017 - rpn_bbox_loss: 0.0487 - mrcnn_class_loss: 0.0034 - mrcnn_bbox_loss: 0.0434 - mrcnn_mask_loss: 0.0898 - val_loss: 0.2897 - val_rpn_class_loss: 2.4183e-04 - val_rpn_bbox_loss: 0.0965 - val_mrcnn_class_loss: 0.0079 - val_mrcnn_bbox_loss: 0.1087 - val_mrcnn_mask_loss: 0.0764\n"
     ]
    }
   ],
   "source": [
    "# Fine tune all layers\n",
    "# Passing layers=\"all\" trains all layers. You can also \n",
    "# pass a regular expression to select which layers to\n",
    "# train by name pattern.\n",
    "all_epochs = 100\n",
    "model.train(dataset_train, dataset_val, \n",
    "            learning_rate=config.LEARNING_RATE / 10,\n",
    "            epochs=all_epochs,\n",
    "            layers=\"all\")"
   ]
  },
  {
   "cell_type": "code",
   "execution_count": 14,
   "metadata": {
    "pycharm": {
     "is_executing": true,
     "name": "#%%\n"
    }
   },
   "outputs": [],
   "source": [
    "# Save weights\n",
    "# Typically not needed because callbacks save after every epoch\n",
    "# Uncomment to save manually\n",
    "# model_path = os.path.join(MODEL_DIR, \"mask_rcnn_shapes.200324.h5\")\n",
    "# model.keras_model.save_weights(model_path)\n",
    "\n",
    "FACE_MODEL_DIR = os.path.join(MODEL_DIR, 'face')\n",
    "\n",
    "import pathlib\n",
    "pathlib.Path(FACE_MODEL_DIR).mkdir(exist_ok=True)\n",
    "\n",
    "model_path = os.path.join(FACE_MODEL_DIR, 'face_epochs{}({}).h5'.format(all_epochs, head_epochs))\n",
    "model.keras_model.save_weights(model_path)\n",
    "\n"
   ]
  }
 ],
 "metadata": {
  "kernelspec": {
   "display_name": "PyCharm (Mask_RCNN)",
   "language": "python",
   "name": "pycharm-703cc313"
  },
  "language_info": {
   "codemirror_mode": {
    "name": "ipython",
    "version": 3
   },
   "file_extension": ".py",
   "mimetype": "text/x-python",
   "name": "python",
   "nbconvert_exporter": "python",
   "pygments_lexer": "ipython3",
   "version": "3.6.10"
  },
  "pycharm": {
   "stem_cell": {
    "cell_type": "raw",
    "source": [],
    "metadata": {
     "collapsed": false
    }
   }
  }
 },
 "nbformat": 4,
 "nbformat_minor": 1
}